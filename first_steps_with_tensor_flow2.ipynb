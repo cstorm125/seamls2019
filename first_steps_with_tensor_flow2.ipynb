{
 "cells": [
  {
   "cell_type": "markdown",
   "metadata": {
    "colab_type": "text",
    "id": "JndnmDMp66FL"
   },
   "source": [
    "#### Copyright 2017 Google LLC."
   ]
  },
  {
   "cell_type": "code",
   "execution_count": null,
   "metadata": {
    "cellView": "both",
    "colab": {},
    "colab_type": "code",
    "id": "hMqWDc_m6rUC"
   },
   "outputs": [],
   "source": [
    "# Licensed under the Apache License, Version 2.0 (the \"License\");\n",
    "# you may not use this file except in compliance with the License.\n",
    "# You may obtain a copy of the License at\n",
    "#\n",
    "# https://www.apache.org/licenses/LICENSE-2.0\n",
    "#\n",
    "# Unless required by applicable law or agreed to in writing, software\n",
    "# distributed under the License is distributed on an \"AS IS\" BASIS,\n",
    "# WITHOUT WARRANTIES OR CONDITIONS OF ANY KIND, either express or implied.\n",
    "# See the License for the specific language governing permissions and\n",
    "# limitations under the License."
   ]
  },
  {
   "cell_type": "markdown",
   "metadata": {
    "colab_type": "text",
    "id": "4f3CKqFUqL2-"
   },
   "source": [
    "# First Steps with TensorFlow 2.x"
   ]
  },
  {
   "cell_type": "markdown",
   "metadata": {},
   "source": [
    "This notebook is modified from `first_steps_with_tensorflow.ipynb` to use Tensorflow 2.x instead of Tensorflow 1.x."
   ]
  },
  {
   "cell_type": "markdown",
   "metadata": {
    "colab_type": "text",
    "id": "Bd2Zkk1LE2Zr"
   },
   "source": [
    "**Learning Objectives:**\n",
    "  * Learn fundamental TensorFlow 2.x concepts\n",
    "  * Create a multi-layer perceptron model in TensorFlow to predict median housing price, at the granularity of city blocks, based on nine numerical features.\n",
    "  * Evaluate the accuracy of a model's predictions using Root Mean Squared Error (RMSE)\n",
    "  * Convert the model to run on static graph for better performance"
   ]
  },
  {
   "cell_type": "markdown",
   "metadata": {
    "colab_type": "text",
    "id": "MxiIKhP4E2Zr"
   },
   "source": [
    "The [data](https://developers.google.com/machine-learning/crash-course/california-housing-data-description) is based on 1990 census data from California."
   ]
  },
  {
   "cell_type": "markdown",
   "metadata": {
    "colab_type": "text",
    "id": "6TjLjL9IU80G"
   },
   "source": [
    "## Setup\n",
    "In this first cell, we'll load the necessary libraries."
   ]
  },
  {
   "cell_type": "code",
   "execution_count": 1,
   "metadata": {
    "colab": {
     "base_uri": "https://localhost:8080/",
     "height": 51
    },
    "colab_type": "code",
    "id": "rVFf5asKE2Zt",
    "outputId": "afbc289e-360c-41ce-e174-f661a902a2c2"
   },
   "outputs": [
    {
     "name": "stdout",
     "output_type": "stream",
     "text": [
      "2.0.0-beta1\n"
     ]
    }
   ],
   "source": [
    "# #uncomment if you're running from colab\n",
    "# %tensorflow_version 2.x\n",
    "\n",
    "from IPython import display\n",
    "import math\n",
    "from matplotlib import cm\n",
    "from matplotlib import gridspec\n",
    "from matplotlib import pyplot as plt\n",
    "import numpy as np\n",
    "import pandas as pd\n",
    "from sklearn import metrics\n",
    "\n",
    "import tensorflow as tf\n",
    "from tensorflow.keras.layers import Layer\n",
    "print(tf.__version__)"
   ]
  },
  {
   "cell_type": "markdown",
   "metadata": {
    "colab_type": "text",
    "id": "ipRyUHjhU80Q"
   },
   "source": [
    "Next, we'll load our data set."
   ]
  },
  {
   "cell_type": "code",
   "execution_count": 2,
   "metadata": {
    "colab": {},
    "colab_type": "code",
    "id": "9ivCDWnwE2Zx"
   },
   "outputs": [],
   "source": [
    "cali_df = pd.read_csv(\"https://download.mlcc.google.com/mledu-datasets/california_housing_train.csv\", sep=\",\")\n",
    "# cali_df = pd.read_csv('data/california_housing_train.csv', sep=\",\")"
   ]
  },
  {
   "cell_type": "markdown",
   "metadata": {
    "colab_type": "text",
    "id": "vVk_qlG6U80j"
   },
   "source": [
    "We'll randomize the data, just to be sure not to get any pathological ordering effects that might harm the performance of Stochastic Gradient Descent. Additionally, we'll scale `median_house_value` to be in units of thousands, so it can be learned a little more easily with learning rates in a range that we usually use."
   ]
  },
  {
   "cell_type": "code",
   "execution_count": 3,
   "metadata": {
    "colab": {
     "base_uri": "https://localhost:8080/",
     "height": 204
    },
    "colab_type": "code",
    "id": "r0eVyguIU80m",
    "outputId": "8bd3c415-6b56-4428-fb43-0c2fcee38c1e"
   },
   "outputs": [
    {
     "data": {
      "text/html": [
       "<div>\n",
       "<style scoped>\n",
       "    .dataframe tbody tr th:only-of-type {\n",
       "        vertical-align: middle;\n",
       "    }\n",
       "\n",
       "    .dataframe tbody tr th {\n",
       "        vertical-align: top;\n",
       "    }\n",
       "\n",
       "    .dataframe thead th {\n",
       "        text-align: right;\n",
       "    }\n",
       "</style>\n",
       "<table border=\"1\" class=\"dataframe\">\n",
       "  <thead>\n",
       "    <tr style=\"text-align: right;\">\n",
       "      <th></th>\n",
       "      <th>longitude</th>\n",
       "      <th>latitude</th>\n",
       "      <th>housing_median_age</th>\n",
       "      <th>total_rooms</th>\n",
       "      <th>total_bedrooms</th>\n",
       "      <th>population</th>\n",
       "      <th>households</th>\n",
       "      <th>median_income</th>\n",
       "      <th>median_house_value</th>\n",
       "    </tr>\n",
       "  </thead>\n",
       "  <tbody>\n",
       "    <tr>\n",
       "      <th>11076</th>\n",
       "      <td>-120.99</td>\n",
       "      <td>39.26</td>\n",
       "      <td>16.0</td>\n",
       "      <td>2616.0</td>\n",
       "      <td>422.0</td>\n",
       "      <td>1090.0</td>\n",
       "      <td>425.0</td>\n",
       "      <td>3.7917</td>\n",
       "      <td>179.200</td>\n",
       "    </tr>\n",
       "    <tr>\n",
       "      <th>14701</th>\n",
       "      <td>-122.18</td>\n",
       "      <td>37.41</td>\n",
       "      <td>21.0</td>\n",
       "      <td>1034.0</td>\n",
       "      <td>117.0</td>\n",
       "      <td>323.0</td>\n",
       "      <td>117.0</td>\n",
       "      <td>10.7237</td>\n",
       "      <td>500.001</td>\n",
       "    </tr>\n",
       "    <tr>\n",
       "      <th>6422</th>\n",
       "      <td>-118.26</td>\n",
       "      <td>33.83</td>\n",
       "      <td>28.0</td>\n",
       "      <td>4112.0</td>\n",
       "      <td>861.0</td>\n",
       "      <td>3211.0</td>\n",
       "      <td>841.0</td>\n",
       "      <td>4.4539</td>\n",
       "      <td>192.200</td>\n",
       "    </tr>\n",
       "    <tr>\n",
       "      <th>13159</th>\n",
       "      <td>-121.89</td>\n",
       "      <td>37.34</td>\n",
       "      <td>20.0</td>\n",
       "      <td>1106.0</td>\n",
       "      <td>494.0</td>\n",
       "      <td>851.0</td>\n",
       "      <td>448.0</td>\n",
       "      <td>0.8894</td>\n",
       "      <td>350.000</td>\n",
       "    </tr>\n",
       "    <tr>\n",
       "      <th>8620</th>\n",
       "      <td>-118.53</td>\n",
       "      <td>34.21</td>\n",
       "      <td>18.0</td>\n",
       "      <td>3124.0</td>\n",
       "      <td>796.0</td>\n",
       "      <td>1855.0</td>\n",
       "      <td>725.0</td>\n",
       "      <td>2.9389</td>\n",
       "      <td>213.200</td>\n",
       "    </tr>\n",
       "  </tbody>\n",
       "</table>\n",
       "</div>"
      ],
      "text/plain": [
       "       longitude  latitude  housing_median_age  total_rooms  total_bedrooms  \\\n",
       "11076    -120.99     39.26                16.0       2616.0           422.0   \n",
       "14701    -122.18     37.41                21.0       1034.0           117.0   \n",
       "6422     -118.26     33.83                28.0       4112.0           861.0   \n",
       "13159    -121.89     37.34                20.0       1106.0           494.0   \n",
       "8620     -118.53     34.21                18.0       3124.0           796.0   \n",
       "\n",
       "       population  households  median_income  median_house_value  \n",
       "11076      1090.0       425.0         3.7917             179.200  \n",
       "14701       323.0       117.0        10.7237             500.001  \n",
       "6422       3211.0       841.0         4.4539             192.200  \n",
       "13159       851.0       448.0         0.8894             350.000  \n",
       "8620       1855.0       725.0         2.9389             213.200  "
      ]
     },
     "execution_count": 3,
     "metadata": {},
     "output_type": "execute_result"
    }
   ],
   "source": [
    "cali_df = cali_df.reindex(\n",
    "    np.random.permutation(cali_df.index))\n",
    "cali_df[\"median_house_value\"] /= 1000.0\n",
    "cali_df.head()"
   ]
  },
  {
   "cell_type": "markdown",
   "metadata": {
    "colab_type": "text",
    "id": "HzzlSs3PtTmt"
   },
   "source": [
    "## Examine the Data\n",
    "\n",
    "It's a good idea to get to know your data a little bit before you work with it.\n",
    "\n",
    "We'll print out a quick summary of a few useful statistics on each column: count of examples, mean, standard deviation, max, min, and various quantiles."
   ]
  },
  {
   "cell_type": "code",
   "execution_count": 4,
   "metadata": {
    "cellView": "both",
    "colab": {
     "base_uri": "https://localhost:8080/",
     "height": 297
    },
    "colab_type": "code",
    "id": "gzb10yoVrydW",
    "outputId": "d014a6c5-1473-484f-b93c-fd6966498087"
   },
   "outputs": [
    {
     "data": {
      "text/html": [
       "<div>\n",
       "<style scoped>\n",
       "    .dataframe tbody tr th:only-of-type {\n",
       "        vertical-align: middle;\n",
       "    }\n",
       "\n",
       "    .dataframe tbody tr th {\n",
       "        vertical-align: top;\n",
       "    }\n",
       "\n",
       "    .dataframe thead th {\n",
       "        text-align: right;\n",
       "    }\n",
       "</style>\n",
       "<table border=\"1\" class=\"dataframe\">\n",
       "  <thead>\n",
       "    <tr style=\"text-align: right;\">\n",
       "      <th></th>\n",
       "      <th>longitude</th>\n",
       "      <th>latitude</th>\n",
       "      <th>housing_median_age</th>\n",
       "      <th>total_rooms</th>\n",
       "      <th>total_bedrooms</th>\n",
       "      <th>population</th>\n",
       "      <th>households</th>\n",
       "      <th>median_income</th>\n",
       "      <th>median_house_value</th>\n",
       "    </tr>\n",
       "  </thead>\n",
       "  <tbody>\n",
       "    <tr>\n",
       "      <th>count</th>\n",
       "      <td>17000.000000</td>\n",
       "      <td>17000.000000</td>\n",
       "      <td>17000.000000</td>\n",
       "      <td>17000.000000</td>\n",
       "      <td>17000.000000</td>\n",
       "      <td>17000.000000</td>\n",
       "      <td>17000.000000</td>\n",
       "      <td>17000.000000</td>\n",
       "      <td>17000.000000</td>\n",
       "    </tr>\n",
       "    <tr>\n",
       "      <th>mean</th>\n",
       "      <td>-119.562108</td>\n",
       "      <td>35.625225</td>\n",
       "      <td>28.589353</td>\n",
       "      <td>2643.664412</td>\n",
       "      <td>539.410824</td>\n",
       "      <td>1429.573941</td>\n",
       "      <td>501.221941</td>\n",
       "      <td>3.883578</td>\n",
       "      <td>207.300912</td>\n",
       "    </tr>\n",
       "    <tr>\n",
       "      <th>std</th>\n",
       "      <td>2.005166</td>\n",
       "      <td>2.137340</td>\n",
       "      <td>12.586937</td>\n",
       "      <td>2179.947071</td>\n",
       "      <td>421.499452</td>\n",
       "      <td>1147.852959</td>\n",
       "      <td>384.520841</td>\n",
       "      <td>1.908157</td>\n",
       "      <td>115.983764</td>\n",
       "    </tr>\n",
       "    <tr>\n",
       "      <th>min</th>\n",
       "      <td>-124.350000</td>\n",
       "      <td>32.540000</td>\n",
       "      <td>1.000000</td>\n",
       "      <td>2.000000</td>\n",
       "      <td>1.000000</td>\n",
       "      <td>3.000000</td>\n",
       "      <td>1.000000</td>\n",
       "      <td>0.499900</td>\n",
       "      <td>14.999000</td>\n",
       "    </tr>\n",
       "    <tr>\n",
       "      <th>25%</th>\n",
       "      <td>-121.790000</td>\n",
       "      <td>33.930000</td>\n",
       "      <td>18.000000</td>\n",
       "      <td>1462.000000</td>\n",
       "      <td>297.000000</td>\n",
       "      <td>790.000000</td>\n",
       "      <td>282.000000</td>\n",
       "      <td>2.566375</td>\n",
       "      <td>119.400000</td>\n",
       "    </tr>\n",
       "    <tr>\n",
       "      <th>50%</th>\n",
       "      <td>-118.490000</td>\n",
       "      <td>34.250000</td>\n",
       "      <td>29.000000</td>\n",
       "      <td>2127.000000</td>\n",
       "      <td>434.000000</td>\n",
       "      <td>1167.000000</td>\n",
       "      <td>409.000000</td>\n",
       "      <td>3.544600</td>\n",
       "      <td>180.400000</td>\n",
       "    </tr>\n",
       "    <tr>\n",
       "      <th>75%</th>\n",
       "      <td>-118.000000</td>\n",
       "      <td>37.720000</td>\n",
       "      <td>37.000000</td>\n",
       "      <td>3151.250000</td>\n",
       "      <td>648.250000</td>\n",
       "      <td>1721.000000</td>\n",
       "      <td>605.250000</td>\n",
       "      <td>4.767000</td>\n",
       "      <td>265.000000</td>\n",
       "    </tr>\n",
       "    <tr>\n",
       "      <th>max</th>\n",
       "      <td>-114.310000</td>\n",
       "      <td>41.950000</td>\n",
       "      <td>52.000000</td>\n",
       "      <td>37937.000000</td>\n",
       "      <td>6445.000000</td>\n",
       "      <td>35682.000000</td>\n",
       "      <td>6082.000000</td>\n",
       "      <td>15.000100</td>\n",
       "      <td>500.001000</td>\n",
       "    </tr>\n",
       "  </tbody>\n",
       "</table>\n",
       "</div>"
      ],
      "text/plain": [
       "          longitude      latitude  housing_median_age   total_rooms  \\\n",
       "count  17000.000000  17000.000000        17000.000000  17000.000000   \n",
       "mean    -119.562108     35.625225           28.589353   2643.664412   \n",
       "std        2.005166      2.137340           12.586937   2179.947071   \n",
       "min     -124.350000     32.540000            1.000000      2.000000   \n",
       "25%     -121.790000     33.930000           18.000000   1462.000000   \n",
       "50%     -118.490000     34.250000           29.000000   2127.000000   \n",
       "75%     -118.000000     37.720000           37.000000   3151.250000   \n",
       "max     -114.310000     41.950000           52.000000  37937.000000   \n",
       "\n",
       "       total_bedrooms    population    households  median_income  \\\n",
       "count    17000.000000  17000.000000  17000.000000   17000.000000   \n",
       "mean       539.410824   1429.573941    501.221941       3.883578   \n",
       "std        421.499452   1147.852959    384.520841       1.908157   \n",
       "min          1.000000      3.000000      1.000000       0.499900   \n",
       "25%        297.000000    790.000000    282.000000       2.566375   \n",
       "50%        434.000000   1167.000000    409.000000       3.544600   \n",
       "75%        648.250000   1721.000000    605.250000       4.767000   \n",
       "max       6445.000000  35682.000000   6082.000000      15.000100   \n",
       "\n",
       "       median_house_value  \n",
       "count        17000.000000  \n",
       "mean           207.300912  \n",
       "std            115.983764  \n",
       "min             14.999000  \n",
       "25%            119.400000  \n",
       "50%            180.400000  \n",
       "75%            265.000000  \n",
       "max            500.001000  "
      ]
     },
     "execution_count": 4,
     "metadata": {},
     "output_type": "execute_result"
    }
   ],
   "source": [
    "cali_df.describe()"
   ]
  },
  {
   "cell_type": "markdown",
   "metadata": {
    "colab_type": "text",
    "id": "Lr6wYl2bt2Ep"
   },
   "source": [
    "## Build the First Model\n",
    "\n",
    "In this exercise, we'll try to predict `median_house_value`, which will be our label (sometimes also called a target). We'll use every other numerical features as our input feature.\n",
    "\n",
    "**NOTE:** Our data is at the city block level, so this feature represents the total number of rooms in that block.\n",
    "\n",
    "To train our model, we'll use a multi-layer perceptron (MLP) model based on Tensorflow 2.x `tf.keras` APIs and Eager Mode. We will then convert the model to static graph mode for better performance."
   ]
  },
  {
   "cell_type": "markdown",
   "metadata": {
    "colab_type": "text",
    "id": "0cpcsieFhsNI"
   },
   "source": [
    "### Step 1: Define Features and Target"
   ]
  },
  {
   "cell_type": "markdown",
   "metadata": {
    "colab_type": "text",
    "id": "EL8-9d4ZJNR7"
   },
   "source": [
    "In order to import our training data into TensorFlow, we need to specify what type of data each feature contains. There are two main types of data we'll use in this and future exercises:\n",
    "\n",
    "* **Categorical Data**: Data that is textual. In this exercise, our housing data set does not contain any categorical features, but examples you might see would be the home style, the words in a real-estate ad.\n",
    "\n",
    "* **Numerical Data**: Data that is a number (integer or float) and that you want to treat as a number. As we will discuss more later sometimes you might want to treat numerical data (e.g., a postal code) as if it were categorical.\n",
    "\n",
    "In TensorFlow, we indicate a feature's data type using a construct called a **feature column**. Feature columns store only a description of the feature data; they do not contain the feature data itself.\n",
    "\n",
    "To start, we're going to use just numerical features and median household value as target."
   ]
  },
  {
   "cell_type": "code",
   "execution_count": 5,
   "metadata": {
    "colab": {
     "base_uri": "https://localhost:8080/",
     "height": 34
    },
    "colab_type": "code",
    "id": "rhEbFCZ86cDZ",
    "outputId": "5bc2d1e9-c76d-4f77-8ad2-ff3e3eb70307"
   },
   "outputs": [
    {
     "data": {
      "text/plain": [
       "((13600, 9), (3400, 9))"
      ]
     },
     "execution_count": 5,
     "metadata": {},
     "output_type": "execute_result"
    }
   ],
   "source": [
    "num_features = ['longitude','latitude','housing_median_age','total_rooms','total_bedrooms','population','households','median_income']\n",
    "target = ['median_house_value']\n",
    "\n",
    "#split\n",
    "from sklearn.model_selection import train_test_split\n",
    "train_df, valid_df = train_test_split(cali_df[num_features+target],test_size=0.2)\n",
    "train_df.shape, valid_df.shape"
   ]
  },
  {
   "cell_type": "code",
   "execution_count": 8,
   "metadata": {
    "colab": {
     "base_uri": "https://localhost:8080/",
     "height": 153
    },
    "colab_type": "code",
    "id": "VbxOn9ZCOekc",
    "outputId": "62a7431c-e51d-40a6-e381-16a7bad89392"
   },
   "outputs": [
    {
     "data": {
      "text/plain": [
       "(array([-0.01589618, -0.20802771, -0.15837125, ..., -0.22034211,\n",
       "        -0.17528519,  0.23055533]),\n",
       " array([1.0240923 , 1.45924124, 0.70915697, ..., 0.74074247, 0.64516871,\n",
       "        0.66589931]),\n",
       " array([-0.09096787,  0.44995171, -0.28523095, ..., -0.16459333,\n",
       "        -0.03167588, -0.01149345]),\n",
       " array([0.64318357, 0.89706566, 0.65308995, ..., 0.43029873, 0.53044619,\n",
       "        0.80643883]))"
      ]
     },
     "execution_count": 8,
     "metadata": {},
     "output_type": "execute_result"
    }
   ],
   "source": [
    "#standardize\n",
    "from sklearn.preprocessing import StandardScaler\n",
    "scaler = StandardScaler().fit(train_df[num_features])\n",
    "train_scaled = scaler.transform(train_df[num_features])\n",
    "valid_scaled = scaler.transform(valid_df[num_features])\n",
    "train_scaled.mean(1), train_scaled.std(1), valid_scaled.mean(1), valid_scaled.std(1)"
   ]
  },
  {
   "cell_type": "code",
   "execution_count": 9,
   "metadata": {
    "colab": {
     "base_uri": "https://localhost:8080/",
     "height": 34
    },
    "colab_type": "code",
    "id": "Jmmq5X2BNVrb",
    "outputId": "f0c66549-82e5-49f0-af67-148d272d4ea1"
   },
   "outputs": [
    {
     "data": {
      "text/plain": [
       "((13600, 8), (13600, 1), (3400, 8), (3400, 1))"
      ]
     },
     "execution_count": 9,
     "metadata": {},
     "output_type": "execute_result"
    }
   ],
   "source": [
    "#to numpy\n",
    "train_x = np.array(train_scaled)\n",
    "train_y = np.array(train_df[target])\n",
    "valid_x = np.array(valid_scaled)\n",
    "valid_y = np.array(valid_df[target])\n",
    "train_x.shape,train_y.shape,valid_x.shape,valid_y.shape"
   ]
  },
  {
   "cell_type": "code",
   "execution_count": 10,
   "metadata": {},
   "outputs": [
    {
     "data": {
      "text/plain": [
       "(array([[ 2.03485894, -1.38364979, -0.29298431, -0.14779587,  0.0763758 ,\n",
       "          0.64742097,  0.25703771, -1.31843288],\n",
       "        [-2.2928836 ,  2.41990585,  1.85046161, -0.62783383, -0.6211932 ,\n",
       "         -0.72243643, -0.56402007, -1.10622204],\n",
       "        [ 1.25616478, -1.34617634,  0.50088455, -0.2285584 , -0.35960482,\n",
       "         -0.3683704 , -0.30840774, -0.41290163],\n",
       "        [ 1.19626523, -1.33212379,  1.05659275, -0.70042937, -0.55520694,\n",
       "         -0.46376198, -0.60016727, -0.84332927],\n",
       "        [ 1.17130709, -1.14007234, -1.00746628,  0.1616426 ,  0.27197792,\n",
       "          0.44374706,  0.26736549, -0.61936992],\n",
       "        [-0.85030275,  1.1692293 ,  0.65965832, -0.18863085, -0.08623319,\n",
       "          0.02007097, -0.08119678, -0.6948133 ],\n",
       "        [ 0.54735343, -0.74191688,  0.26272389,  0.118539  ,  0.4887899 ,\n",
       "         -0.10453965,  0.52555976,  0.33636911],\n",
       "        [ 0.75201023, -0.76533779,  0.73904521, -0.81023011, -0.85450175,\n",
       "         -0.81439047, -0.84286989,  0.26208478],\n",
       "        [ 1.30108945, -1.28996615, -0.92807939,  0.93705364,  0.46993669,\n",
       "          0.94476768,  0.56945279,  0.50105905],\n",
       "        [-1.28956612,  0.9631253 ,  0.50088455, -0.00714202, -0.22056235,\n",
       "         -0.07102369, -0.04246764,  0.26809074]]), array([[ 70.1],\n",
       "        [ 76.9],\n",
       "        [137.3],\n",
       "        [145.2],\n",
       "        [216.9],\n",
       "        [ 87.8],\n",
       "        [350. ],\n",
       "        [186.2],\n",
       "        [158.5],\n",
       "        [205.2]]))"
      ]
     },
     "execution_count": 10,
     "metadata": {},
     "output_type": "execute_result"
    }
   ],
   "source": [
    "train_x[:10],train_y[:10]"
   ]
  },
  {
   "cell_type": "markdown",
   "metadata": {
    "colab_type": "text",
    "id": "4M-rTFHL2UkA"
   },
   "source": [
    "### Step 2: Create `Dataset` Object"
   ]
  },
  {
   "cell_type": "markdown",
   "metadata": {},
   "source": [
    "`Dataset` object is responsible for shuffling and feeding the features-target pairs into the architecture. We also create a validation `Dataset` with batch size equal to all validation examples and no shuffling."
   ]
  },
  {
   "cell_type": "code",
   "execution_count": 11,
   "metadata": {
    "colab": {
     "base_uri": "https://localhost:8080/",
     "height": 51
    },
    "colab_type": "code",
    "id": "uNsy47-1Jxe9",
    "outputId": "fed2f056-b4b5-49b7-f70a-d76c1656dd33"
   },
   "outputs": [
    {
     "data": {
      "text/plain": [
       "(<BatchDataset shapes: ((None, 8), (None, 1)), types: (tf.float64, tf.float64)>,\n",
       " <BatchDataset shapes: ((None, 8), (None, 1)), types: (tf.float64, tf.float64)>)"
      ]
     },
     "execution_count": 11,
     "metadata": {},
     "output_type": "execute_result"
    }
   ],
   "source": [
    "#datasets\n",
    "#shuffle with buffer equal to size of dataset\n",
    "train_ds = tf.data.Dataset.from_tensor_slices((train_x,train_y))\\\n",
    "  .shuffle(buffer_size=train_y.shape[0]).batch(64)\n",
    "#no shuffling for validation\n",
    "valid_ds = tf.data.Dataset.from_tensor_slices((train_x,train_y))\\\n",
    "  .batch(valid_y.shape[0])\n",
    "train_ds, valid_ds"
   ]
  },
  {
   "cell_type": "markdown",
   "metadata": {
    "colab_type": "text",
    "id": "W2OPpS0SQ4z4"
   },
   "source": [
    "## Step 3: Define Architecture"
   ]
  },
  {
   "cell_type": "markdown",
   "metadata": {},
   "source": [
    "There are several ways to define an architecture in Tensorflow 2.0. Here we introduce:"
   ]
  },
  {
   "cell_type": "markdown",
   "metadata": {},
   "source": [
    "#### Step 3.1: `tf.keras.layers.Layer` "
   ]
  },
  {
   "cell_type": "markdown",
   "metadata": {},
   "source": [
    "You can create your own `tf.keras.layers.Layer` object, which acts as a layer or a collection of layers in your architecture. Here we define our own `Linear` layer for a fully-connect layer instead of using `tf.keras.layers.Dense`."
   ]
  },
  {
   "cell_type": "code",
   "execution_count": 12,
   "metadata": {},
   "outputs": [],
   "source": [
    "class Linear(Layer):\n",
    "    def __init__(self, output_dim):\n",
    "        super(Linear,self).__init__()\n",
    "        self.output_dim = output_dim\n",
    "    #use build method to build the weights without having to specify input dimension\n",
    "    def build(self,x_shape):\n",
    "        self.w = self.add_weight(shape=(x_shape[-1],self.output_dim),\n",
    "                                initializer='he_normal',trainable=True)\n",
    "        self.b = self.add_weight(shape=(self.output_dim,),\n",
    "                                initializer='zeros',trainable=True)\n",
    "    def call(self,x):\n",
    "        return tf.matmul(x,self.w) + self.b"
   ]
  },
  {
   "cell_type": "code",
   "execution_count": 13,
   "metadata": {
    "colab": {},
    "colab_type": "code",
    "id": "ypzI0s_LQ832"
   },
   "outputs": [],
   "source": [
    "#piece linear layers together to get our simple MLP architecture\n",
    "class MLP(Layer):\n",
    "    def __init__(self,output_dims=[32,32,1]):\n",
    "        super(MLP,self).__init__()\n",
    "        #we intentionally do not specify any activation to show we can use functional tf.nn later\n",
    "        self.linears = [Linear(i) for i in output_dims]\n",
    "#         #we can also use the predefined tf.keras.layers.Dense; we can also specify activations\n",
    "#         self.linears = [tf.keras.layers.Dense(i,activation='relu') for i in output_dims]\n",
    "    def call(self,x):\n",
    "        for l in self.linears[:-1]:\n",
    "            x = tf.nn.relu(l(x))\n",
    "        return self.linears[-1](x)"
   ]
  },
  {
   "cell_type": "code",
   "execution_count": 14,
   "metadata": {},
   "outputs": [
    {
     "data": {
      "text/plain": [
       "TensorShape([64, 1])"
      ]
     },
     "execution_count": 14,
     "metadata": {},
     "output_type": "execute_result"
    }
   ],
   "source": [
    "m = MLP([32,32,1])\n",
    "x = tf.random.normal((64,9))\n",
    "m(x).shape"
   ]
  },
  {
   "cell_type": "markdown",
   "metadata": {},
   "source": [
    "#### Step 3.2: `tf.keras.Sequential`"
   ]
  },
  {
   "cell_type": "markdown",
   "metadata": {},
   "source": [
    "`tf.keras.Sequential` will create a model but do not build it unless you specify the input shape."
   ]
  },
  {
   "cell_type": "code",
   "execution_count": 15,
   "metadata": {},
   "outputs": [
    {
     "ename": "ValueError",
     "evalue": "This model has not yet been built. Build the model first by calling `build()` or calling `fit()` with some data, or specify an `input_shape` argument in the first layer(s) for automatic build.",
     "output_type": "error",
     "traceback": [
      "\u001b[0;31m---------------------------------------------------------------------------\u001b[0m",
      "\u001b[0;31mValueError\u001b[0m                                Traceback (most recent call last)",
      "\u001b[0;32m<ipython-input-15-001bc5aa961f>\u001b[0m in \u001b[0;36m<module>\u001b[0;34m\u001b[0m\n\u001b[1;32m      4\u001b[0m     \u001b[0mm\u001b[0m\u001b[0;34m.\u001b[0m\u001b[0madd\u001b[0m\u001b[0;34m(\u001b[0m\u001b[0mtf\u001b[0m\u001b[0;34m.\u001b[0m\u001b[0mkeras\u001b[0m\u001b[0;34m.\u001b[0m\u001b[0mlayers\u001b[0m\u001b[0;34m.\u001b[0m\u001b[0mDense\u001b[0m\u001b[0;34m(\u001b[0m\u001b[0mi\u001b[0m\u001b[0;34m,\u001b[0m\u001b[0mactivation\u001b[0m\u001b[0;34m=\u001b[0m\u001b[0;34m'relu'\u001b[0m\u001b[0;34m)\u001b[0m\u001b[0;34m)\u001b[0m\u001b[0;34m\u001b[0m\u001b[0;34m\u001b[0m\u001b[0m\n\u001b[1;32m      5\u001b[0m \u001b[0mm\u001b[0m\u001b[0;34m.\u001b[0m\u001b[0madd\u001b[0m\u001b[0;34m(\u001b[0m\u001b[0mtf\u001b[0m\u001b[0;34m.\u001b[0m\u001b[0mkeras\u001b[0m\u001b[0;34m.\u001b[0m\u001b[0mlayers\u001b[0m\u001b[0;34m.\u001b[0m\u001b[0mDense\u001b[0m\u001b[0;34m(\u001b[0m\u001b[0;36m1\u001b[0m\u001b[0;34m)\u001b[0m\u001b[0;34m)\u001b[0m\u001b[0;34m\u001b[0m\u001b[0;34m\u001b[0m\u001b[0m\n\u001b[0;32m----> 6\u001b[0;31m \u001b[0mm\u001b[0m\u001b[0;34m.\u001b[0m\u001b[0msummary\u001b[0m\u001b[0;34m(\u001b[0m\u001b[0;34m)\u001b[0m\u001b[0;34m\u001b[0m\u001b[0;34m\u001b[0m\u001b[0m\n\u001b[0m",
      "\u001b[0;32m~/anaconda3/envs/drlnd/lib/python3.6/site-packages/tensorflow/python/keras/engine/network.py\u001b[0m in \u001b[0;36msummary\u001b[0;34m(self, line_length, positions, print_fn)\u001b[0m\n\u001b[1;32m   1493\u001b[0m     \"\"\"\n\u001b[1;32m   1494\u001b[0m     \u001b[0;32mif\u001b[0m \u001b[0;32mnot\u001b[0m \u001b[0mself\u001b[0m\u001b[0;34m.\u001b[0m\u001b[0mbuilt\u001b[0m\u001b[0;34m:\u001b[0m\u001b[0;34m\u001b[0m\u001b[0;34m\u001b[0m\u001b[0m\n\u001b[0;32m-> 1495\u001b[0;31m       raise ValueError('This model has not yet been built. '\n\u001b[0m\u001b[1;32m   1496\u001b[0m                        \u001b[0;34m'Build the model first by calling `build()` or calling '\u001b[0m\u001b[0;34m\u001b[0m\u001b[0;34m\u001b[0m\u001b[0m\n\u001b[1;32m   1497\u001b[0m                        \u001b[0;34m'`fit()` with some data, or specify '\u001b[0m\u001b[0;34m\u001b[0m\u001b[0;34m\u001b[0m\u001b[0m\n",
      "\u001b[0;31mValueError\u001b[0m: This model has not yet been built. Build the model first by calling `build()` or calling `fit()` with some data, or specify an `input_shape` argument in the first layer(s) for automatic build."
     ]
    }
   ],
   "source": [
    "#without input shape\n",
    "m = tf.keras.Sequential()\n",
    "for i in [32,32]:\n",
    "    m.add(tf.keras.layers.Dense(i,activation='relu'))\n",
    "m.add(tf.keras.layers.Dense(1))\n",
    "m.summary()"
   ]
  },
  {
   "cell_type": "code",
   "execution_count": 16,
   "metadata": {},
   "outputs": [
    {
     "name": "stdout",
     "output_type": "stream",
     "text": [
      "Model: \"sequential_1\"\n",
      "_________________________________________________________________\n",
      "Layer (type)                 Output Shape              Param #   \n",
      "=================================================================\n",
      "dense_3 (Dense)              (None, 32)                320       \n",
      "_________________________________________________________________\n",
      "dense_4 (Dense)              (None, 32)                1056      \n",
      "_________________________________________________________________\n",
      "dense_5 (Dense)              (None, 1)                 33        \n",
      "=================================================================\n",
      "Total params: 1,409\n",
      "Trainable params: 1,409\n",
      "Non-trainable params: 0\n",
      "_________________________________________________________________\n"
     ]
    }
   ],
   "source": [
    "#with input shape\n",
    "m = tf.keras.Sequential()\n",
    "m.add(tf.keras.layers.Dense(32,activation='relu',input_dim=9))\n",
    "m.add(tf.keras.layers.Dense(32,activation='relu'))\n",
    "m.add(tf.keras.layers.Dense(1))\n",
    "m.summary()"
   ]
  },
  {
   "cell_type": "markdown",
   "metadata": {},
   "source": [
    "### Step 4: Define Loss"
   ]
  },
  {
   "cell_type": "markdown",
   "metadata": {},
   "source": [
    "We need to specify which loss function to optimize for. In our case, we use a simple mean squared error loss (MSE loss)."
   ]
  },
  {
   "cell_type": "code",
   "execution_count": 17,
   "metadata": {},
   "outputs": [
    {
     "name": "stdout",
     "output_type": "stream",
     "text": [
      "y: (10, 1), preds: (10, 1), MSE Loss: 0.41295117139816284\n",
      "MSE Loss by hand: 0.41295117139816284\n"
     ]
    }
   ],
   "source": [
    "loss_fn = tf.keras.losses.MeanSquaredError()\n",
    "y = tf.ones((10,1))\n",
    "preds = tf.random.uniform((10,1))\n",
    "print(f'y: {y.shape}, preds: {preds.shape}, MSE Loss: {loss_fn(y,preds)}')\n",
    "print(f'MSE Loss by hand: {((y.numpy()-preds.numpy())**2).mean()}')"
   ]
  },
  {
   "cell_type": "markdown",
   "metadata": {},
   "source": [
    "### Step 5: Define Optimizer"
   ]
  },
  {
   "cell_type": "markdown",
   "metadata": {},
   "source": [
    "Last step of preparation is to define which optimizer to apply the gradients."
   ]
  },
  {
   "cell_type": "code",
   "execution_count": 18,
   "metadata": {},
   "outputs": [],
   "source": [
    "optimizer = tf.keras.optimizers.Adam(learning_rate = 1e-3,\n",
    "                                    beta_1=0.9, beta_2=0.999)"
   ]
  },
  {
   "cell_type": "markdown",
   "metadata": {},
   "source": [
    "### Step 6: Training Loop"
   ]
  },
  {
   "cell_type": "markdown",
   "metadata": {},
   "source": [
    "We put what we have prepared so far together: datasets, architecture, loss function, and optimizer to train the model."
   ]
  },
  {
   "cell_type": "code",
   "execution_count": 66,
   "metadata": {},
   "outputs": [],
   "source": [
    "#datasets\n",
    "#shuffle with buffer equal to size of dataset\n",
    "train_ds = tf.data.Dataset.from_tensor_slices((train_x,train_y))\\\n",
    "  .shuffle(buffer_size=train_y.shape[0]).batch(64)\n",
    "#no shuffling for validation\n",
    "valid_ds = tf.data.Dataset.from_tensor_slices((train_x,train_y))\\\n",
    "  .batch(valid_y.shape[0])\n",
    "train_ds, valid_ds\n",
    "\n",
    "#architecture\n",
    "class MLP(Layer):\n",
    "    def __init__(self,output_dims=[64,32,1]):\n",
    "        super(MLP,self).__init__()\n",
    "        #we can also use the predefined tf.keras.layers.Dense; we can also specify activations\n",
    "        self.linears = [tf.keras.layers.Dense(i,activation='relu') for i in output_dims]\n",
    "    def call(self,x):\n",
    "        for l in self.linears[:-1]: x = l(x)\n",
    "        return self.linears[-1](x)\n",
    "m = MLP([32,32,1])\n",
    "\n",
    "#loss fn\n",
    "loss_fn = tf.keras.losses.MeanSquaredError()\n",
    "\n",
    "#optimizer\n",
    "optimizer = tf.keras.optimizers.Adam(learning_rate = 2e-3,\n",
    "                                    beta_1=0.9, beta_2=0.999)"
   ]
  },
  {
   "cell_type": "markdown",
   "metadata": {},
   "source": [
    "As we train the model in Eager Mode, we use `tf.GradientTape()` to record the gradients and use our optimizer to apply them. Let's say we train for 10 epochs (10 rounds of all data)."
   ]
  },
  {
   "cell_type": "code",
   "execution_count": 67,
   "metadata": {},
   "outputs": [
    {
     "name": "stdout",
     "output_type": "stream",
     "text": [
      "epoch 0 - Train Loss: 14785.23828125; Valid Loss: 11783.486328125\n",
      "epoch 1 - Train Loss: 8391.20703125; Valid Loss: 6303.48388671875\n",
      "epoch 2 - Train Loss: 6749.06298828125; Valid Loss: 4983.7705078125\n",
      "epoch 3 - Train Loss: 6067.9052734375; Valid Loss: 4369.4609375\n",
      "epoch 4 - Train Loss: 5717.25390625; Valid Loss: 4067.29052734375\n",
      "epoch 5 - Train Loss: 5602.755859375; Valid Loss: 3917.6123046875\n",
      "epoch 6 - Train Loss: 5545.703125; Valid Loss: 3834.904296875\n",
      "epoch 7 - Train Loss: 5488.9423828125; Valid Loss: 3774.08740234375\n",
      "epoch 8 - Train Loss: 5377.0; Valid Loss: 3726.438232421875\n",
      "epoch 9 - Train Loss: 5273.7060546875; Valid Loss: 3682.73828125\n",
      "Done in 0:00:12.966611\n"
     ]
    }
   ],
   "source": [
    "from datetime import datetime\n",
    "start_time = datetime.now()\n",
    "\n",
    "#to log epoch-level train and validation losses\n",
    "epoch_train_losses = []\n",
    "epoch_valid_losses = []\n",
    "for e in range(10):\n",
    "    #training loop\n",
    "    for i,(x,y) in enumerate(train_ds):\n",
    "        epoch_train_loss = []\n",
    "        with tf.GradientTape() as tape:\n",
    "            preds = m(x) #prediction\n",
    "            train_loss = loss_fn(y,preds) #record loss\n",
    "            epoch_train_loss.append(train_loss)\n",
    "            #record gradients\n",
    "            gradients = tape.gradient(train_loss,m.trainable_weights)\n",
    "        #update \n",
    "        optimizer.apply_gradients(zip(gradients,m.trainable_weights))\n",
    "    epoch_train_losses.append(np.mean(epoch_train_loss))\n",
    "    \n",
    "    #validation loop\n",
    "    for i,(x,y) in enumerate(valid_ds):\n",
    "        epoch_valid_loss = []\n",
    "        preds = m(x) #prediction\n",
    "        valid_loss = loss_fn(y,preds) #record loss\n",
    "        epoch_valid_loss.append(valid_loss)\n",
    "        # do not record or apply gradients\n",
    "    epoch_valid_losses.append(np.mean(epoch_valid_loss))\n",
    "    \n",
    "    #log\n",
    "    print(f'epoch {e} - Train Loss: {np.mean(epoch_train_loss)}; Valid Loss: {np.mean(epoch_valid_loss)}')\n",
    "\n",
    "print(f'Done in {datetime.now()-start_time}')"
   ]
  },
  {
   "cell_type": "code",
   "execution_count": 68,
   "metadata": {},
   "outputs": [
    {
     "data": {
      "text/plain": [
       "[<matplotlib.lines.Line2D at 0x7ff2f0698978>]"
      ]
     },
     "execution_count": 68,
     "metadata": {},
     "output_type": "execute_result"
    },
    {
     "data": {
      "image/png": "[encoded data removed]",
      "text/plain": [
       "<Figure size 432x288 with 1 Axes>"
      ]
     },
     "metadata": {
      "needs_background": "light"
     },
     "output_type": "display_data"
    }
   ],
   "source": [
    "#plot losses by epoch\n",
    "plt.plot(epoch_train_losses)\n",
    "plt.plot(epoch_valid_losses)"
   ]
  },
  {
   "cell_type": "markdown",
   "metadata": {
    "colab_type": "text",
    "id": "-0IztwdK2f3F"
   },
   "source": [
    "### Step 7: Evaluate the Model"
   ]
  },
  {
   "cell_type": "markdown",
   "metadata": {
    "colab_type": "text",
    "id": "AKWstXXPzOVz"
   },
   "source": [
    "Is this a good model? How would you judge how large this error is?\n",
    "\n",
    "Mean Squared Error (MSE) can be hard to interpret, so we often look at Root Mean Squared Error (RMSE)\n",
    "instead.  A nice property of RMSE is that it can be interpreted on the same scale as the original targets.\n",
    "\n",
    "Let's compare the RMSE to the difference of the min and max of our targets:"
   ]
  },
  {
   "cell_type": "code",
   "execution_count": 69,
   "metadata": {
    "colab": {},
    "colab_type": "code",
    "id": "7UwqGbbxP53O"
   },
   "outputs": [
    {
     "name": "stdout",
     "output_type": "stream",
     "text": [
      "Min. Median House Value: 14.999\n",
      "Max. Median House Value: 500.001\n",
      "Difference between Min. and Max.: 485.002\n",
      "Root Mean Squared Error: 60.686\n"
     ]
    }
   ],
   "source": [
    "root_mean_squared_error = np.sqrt(epoch_valid_losses[-1])\n",
    "\n",
    "min_house_value = cali_df[\"median_house_value\"].min()\n",
    "max_house_value = cali_df[\"median_house_value\"].max()\n",
    "min_max_difference = max_house_value - min_house_value\n",
    "\n",
    "print(\"Min. Median House Value: %0.3f\" % min_house_value)\n",
    "print(\"Max. Median House Value: %0.3f\" % max_house_value)\n",
    "print(\"Difference between Min. and Max.: %0.3f\" % min_max_difference)\n",
    "print(\"Root Mean Squared Error: %0.3f\" % root_mean_squared_error)"
   ]
  },
  {
   "cell_type": "markdown",
   "metadata": {
    "colab_type": "text",
    "id": "QU5sLyYTqzqL"
   },
   "source": [
    "#### Is There a Standard Heuristic for Model Tuning?\n",
    "\n",
    "This is a commonly asked question. The short answer is that the effects of different hyperparameters are data dependent. So there are no hard-and-fast rules; you'll need to test on your data.\n",
    "\n",
    "That said, here are a few rules of thumb that may help guide you:\n",
    "\n",
    " * Training error should steadily decrease, steeply at first, and should eventually plateau as training converges.\n",
    " * If the training has not converged, try running it for longer.\n",
    " * If the training error decreases too slowly, increasing the learning rate may help it decrease faster.\n",
    "   * But sometimes the exact opposite may happen if the learning rate is too high.\n",
    " * If the training error varies wildly, try decreasing the learning rate.\n",
    "   * Lower learning rate plus larger number of steps or larger batch size is often a good combination.\n",
    " * Very small batch sizes can also cause instability.  First try larger values like 100 or 1000, and decrease until you see degradation.\n",
    "\n",
    "Again, never go strictly by these rules of thumb, because the effects are data dependent.  Always experiment and verify."
   ]
  },
  {
   "cell_type": "markdown",
   "metadata": {},
   "source": [
    "### Step 8: Convert to Static Graph"
   ]
  },
  {
   "cell_type": "markdown",
   "metadata": {},
   "source": [
    "Eager Mode is on by default for Tensorflow 2.0 but we can also convert our models to static graph to enjoy the performance edge it offers after we completed the debugging in the more friendly Eager Mode by using the `@tf.function` decorator. This shrinks our time to run 10 epochs from 12 to 2 seconds!"
   ]
  },
  {
   "cell_type": "code",
   "execution_count": 73,
   "metadata": {},
   "outputs": [],
   "source": [
    "#datasets\n",
    "#shuffle with buffer equal to size of dataset\n",
    "train_ds = tf.data.Dataset.from_tensor_slices((train_x,train_y))\\\n",
    "  .shuffle(buffer_size=train_y.shape[0]).batch(64)\n",
    "#no shuffling for validation\n",
    "valid_ds = tf.data.Dataset.from_tensor_slices((train_x,train_y))\\\n",
    "  .batch(valid_y.shape[0])\n",
    "train_ds, valid_ds\n",
    "\n",
    "#architecture\n",
    "class MLP(Layer):\n",
    "    def __init__(self,output_dims=[64,32,1]):\n",
    "        super(MLP,self).__init__()\n",
    "        #we can also use the predefined tf.keras.layers.Dense; we can also specify activations\n",
    "        self.linears = [tf.keras.layers.Dense(i,activation='relu') for i in output_dims]\n",
    "    def call(self,x):\n",
    "        for l in self.linears[:-1]: x = l(x)\n",
    "        return self.linears[-1](x)\n",
    "m = MLP([32,32,1])\n",
    "\n",
    "#loss fn\n",
    "loss_fn = tf.keras.losses.MeanSquaredError()\n",
    "\n",
    "#optimizer\n",
    "optimizer = tf.keras.optimizers.Adam(learning_rate = 2e-3,\n",
    "                                    beta_1=0.9, beta_2=0.999)"
   ]
  },
  {
   "cell_type": "code",
   "execution_count": 76,
   "metadata": {},
   "outputs": [],
   "source": [
    "@tf.function\n",
    "def train_batch(x,y):\n",
    "    with tf.GradientTape() as tape:\n",
    "        preds = m(x) #prediction\n",
    "        train_loss = loss_fn(y,preds) #record loss\n",
    "        gradients = tape.gradient(train_loss,m.trainable_weights)\n",
    "    optimizer.apply_gradients(zip(gradients,m.trainable_weights))\n",
    "    return train_loss\n",
    "\n",
    "@tf.function\n",
    "def valid_batch(x,y):\n",
    "    preds = m(x) #prediction\n",
    "    valid_loss = loss_fn(y,preds) #record loss\n",
    "    return valid_loss"
   ]
  },
  {
   "cell_type": "code",
   "execution_count": 77,
   "metadata": {},
   "outputs": [
    {
     "name": "stdout",
     "output_type": "stream",
     "text": [
      "epoch 0 - Train Loss: 7815.93212890625; Valid Loss: 3844.982421875\n",
      "epoch 1 - Train Loss: 7698.8271484375; Valid Loss: 3813.7626953125\n",
      "epoch 2 - Train Loss: 7590.92431640625; Valid Loss: 3781.134033203125\n",
      "epoch 3 - Train Loss: 7483.203125; Valid Loss: 3746.886962890625\n",
      "epoch 4 - Train Loss: 7384.595703125; Valid Loss: 3712.256103515625\n",
      "epoch 5 - Train Loss: 7266.416015625; Valid Loss: 3679.6982421875\n",
      "epoch 6 - Train Loss: 7188.17041015625; Valid Loss: 3648.277587890625\n",
      "epoch 7 - Train Loss: 7126.32421875; Valid Loss: 3617.36767578125\n",
      "epoch 8 - Train Loss: 7081.24658203125; Valid Loss: 3585.864013671875\n",
      "epoch 9 - Train Loss: 7041.9091796875; Valid Loss: 3551.591064453125\n",
      "Done in 0:00:02.424246\n"
     ]
    }
   ],
   "source": [
    "from datetime import datetime\n",
    "start_time = datetime.now()\n",
    "\n",
    "#to log epoch-level train and validation losses\n",
    "epoch_train_losses = []\n",
    "epoch_valid_losses = []\n",
    "for e in range(10):\n",
    "    #training loop\n",
    "    for i,(x,y) in enumerate(train_ds):\n",
    "        epoch_train_loss = []\n",
    "        train_loss = train_batch(x,y)\n",
    "        epoch_train_loss.append(train_loss)\n",
    "    epoch_train_losses.append(np.mean(epoch_train_loss))\n",
    "    \n",
    "    #validation loop\n",
    "    for i,(x,y) in enumerate(valid_ds):\n",
    "        epoch_valid_loss = []\n",
    "        valid_loss = valid_batch(x,y)\n",
    "        epoch_valid_loss.append(valid_loss)\n",
    "        # do not record or apply gradients\n",
    "    epoch_valid_losses.append(np.mean(epoch_valid_loss))\n",
    "    \n",
    "    #log\n",
    "    print(f'epoch {e} - Train Loss: {np.mean(epoch_train_loss)}; Valid Loss: {np.mean(epoch_valid_loss)}')\n",
    "\n",
    "print(f'Done in {datetime.now()-start_time}')"
   ]
  },
  {
   "cell_type": "code",
   "execution_count": null,
   "metadata": {},
   "outputs": [],
   "source": []
  }
 ],
 "metadata": {
  "accelerator": "TPU",
  "colab": {
   "collapsed_sections": [
    "JndnmDMp66FL",
    "ci1ISxxrZ7v0"
   ],
   "name": "first_steps_with_tensor_flow2.ipynb",
   "provenance": [],
   "version": "0.3.2"
  },
  "kernelspec": {
   "display_name": "Python 3",
   "language": "python",
   "name": "python3"
  },
  "language_info": {
   "codemirror_mode": {
    "name": "ipython",
    "version": 3
   },
   "file_extension": ".py",
   "mimetype": "text/x-python",
   "name": "python",
   "nbconvert_exporter": "python",
   "pygments_lexer": "ipython3",
   "version": "3.6.8"
  }
 },
 "nbformat": 4,
 "nbformat_minor": 2
}
